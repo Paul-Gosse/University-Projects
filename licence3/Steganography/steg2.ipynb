{
 "cells": [
  {
   "cell_type": "code",
   "execution_count": 13,
   "id": "inner-custom",
   "metadata": {},
   "outputs": [],
   "source": [
    "import time\n",
    "import os\n",
    "import matplotlib.pyplot as plt\n",
    "from PIL import Image"
   ]
  },
  {
   "cell_type": "code",
   "execution_count": 14,
   "id": "waiting-maximum",
   "metadata": {},
   "outputs": [],
   "source": [
    "def tuple2bin(rgb) :\n",
    "    r,g,b=rgb\n",
    "    return (str(bin(r)[2:].zfill(8)),str(bin(g)[2:].zfill(8)),str(bin(b)[2:].zfill(8)))"
   ]
  },
  {
   "cell_type": "code",
   "execution_count": 15,
   "id": "caroline-symposium",
   "metadata": {},
   "outputs": [
    {
     "name": "stdout",
     "output_type": "stream",
     "text": [
      "('11111111', '00000001', '10010110')\n"
     ]
    }
   ],
   "source": [
    "hugo=(255,1,150)\n",
    "print(tuple2bin(hugo))"
   ]
  },
  {
   "cell_type": "code",
   "execution_count": 16,
   "id": "going-hands",
   "metadata": {},
   "outputs": [],
   "source": [
    "def bin2tuple(rgb):\n",
    "    r,g,b=rgb\n",
    "    return (int(r,2), int (g,2), int(b,2))"
   ]
  },
  {
   "cell_type": "code",
   "execution_count": 17,
   "id": "individual-squad",
   "metadata": {},
   "outputs": [
    {
     "name": "stdout",
     "output_type": "stream",
     "text": [
      "(255, 1, 150)\n"
     ]
    }
   ],
   "source": [
    "test=('11111111', '00000001', '10010110')\n",
    "print(bin2tuple(test))"
   ]
  },
  {
   "cell_type": "code",
   "execution_count": 18,
   "id": "neither-things",
   "metadata": {},
   "outputs": [],
   "source": [
    "def fusionrgb(rgb1, rgb2):\n",
    "    r1, g1, b1 = rgb1\n",
    "    r2, g2, b2 = rgb2\n",
    "    rgb = (r1[:5] + r2[:3], g1[:5] + g2[:3], b1[:5] + b2[:3])\n",
    "    return rgb"
   ]
  },
  {
   "cell_type": "code",
   "execution_count": 19,
   "id": "impaired-prerequisite",
   "metadata": {},
   "outputs": [
    {
     "name": "stdout",
     "output_type": "stream",
     "text": [
      "('11111001', '00000111', '10010011')\n"
     ]
    }
   ],
   "source": [
    "test1=('11111111', '00000001', '10010110')\n",
    "test2=('00100000', '11110000', '01101001')\n",
    "print(fusionrgb(test1, test2))"
   ]
  },
  {
   "cell_type": "code",
   "execution_count": 20,
   "id": "floating-stephen",
   "metadata": {},
   "outputs": [],
   "source": [
    "def convertrgb(img):\n",
    "    img=Image.open(img)\n",
    "    if img.mode != 'RGB':\n",
    "        fond=Image.new('RGB', img.size, (255, 255, 255))\n",
    "        fond.paste(img, mask=img.split()[3])\n",
    "        fond.save('newimg.jpg', 'JPEG', quality=80)\n",
    "    else:\n",
    "        print('Image déjà rgb')"
   ]
  },
  {
   "cell_type": "code",
   "execution_count": 21,
   "id": "vital-candle",
   "metadata": {},
   "outputs": [],
   "source": [
    "def fusion(imgbase, imgcache):\n",
    "    imgbaseopen=Image.open(imgbase)\n",
    "    imgcacheopen=Image.open(imgcache)\n",
    "    imgbase=convertrgb(imgbase)\n",
    "    imgcache=convertrgb(imgcache)\n",
    "    imgbasergb=imgbaseopen.load()\n",
    "    if imgcacheopen.mode!= 'RGB':\n",
    "        imgcachergb=Image.open(\"newimg.jpg\").load()\n",
    "    else:\n",
    "        imgcachergb=imgcacheopen.load()\n",
    "    newimg=Image.new(imgbaseopen.mode, imgbaseopen.size)\n",
    "    newimgrgb=newimg.load()\n",
    "    longbase=imgbaseopen.size[0]\n",
    "    largbase=imgbaseopen.size[1]\n",
    "    for i in range(longbase):\n",
    "        for j in range(largbase):\n",
    "            imgbasebin=tuple2bin(imgbasergb[i, j])\n",
    "            if i < imgcacheopen.size[0] and j < imgcacheopen.size[1]:\n",
    "                imgcachebin=tuple2bin(imgcachergb[i, j])\n",
    "            rgb=fusionrgb(imgbasebin, imgcachebin)\n",
    "            newimgrgb[i, j]=bin2tuple(rgb)\n",
    "    return newimg"
   ]
  },
  {
   "cell_type": "code",
   "execution_count": 22,
   "id": "sacred-document",
   "metadata": {},
   "outputs": [
    {
     "name": "stdout",
     "output_type": "stream",
     "text": [
      "Image déjà rgb\n"
     ]
    }
   ],
   "source": [
    "imgfinal=fusion(\"lena.png\", \"sonic.png\")\n",
    "imgfinal.save(\"fusion.png\")"
   ]
  },
  {
   "cell_type": "code",
   "execution_count": 23,
   "id": "cubic-england",
   "metadata": {},
   "outputs": [],
   "source": [
    "def defusion(imgfinal):\n",
    "    imgfinalopen=Image.open(imgfinal)\n",
    "    imgfinalrgb=imgfinalopen.load()\n",
    "    longfinal=imgfinalopen.size[0]\n",
    "    largfinal=imgfinalopen.size[1]\n",
    "    imgcachee=Image.new(imgfinalopen.mode, imgfinalopen.size)\n",
    "    imgcacheergb=imgcachee.load()\n",
    "    for i in range(longfinal):\n",
    "        for j in range(largfinal):\n",
    "            r,g,b=tuple2bin(imgfinalrgb[i, j])\n",
    "            rgb=(r[6:]+'000000', g[6:]+'000000', b[6:]+'000000')\n",
    "            imgcacheergb[i, j]=bin2tuple(rgb)\n",
    "    return imgcachee"
   ]
  },
  {
   "cell_type": "code",
   "execution_count": 24,
   "id": "official-allah",
   "metadata": {},
   "outputs": [],
   "source": [
    "imgcachee=defusion(\"fusion.png\")\n",
    "imgcachee.save(\"defusion.png\")"
   ]
  }
 ],
 "metadata": {
  "kernelspec": {
   "display_name": "Python 3",
   "language": "python",
   "name": "python3"
  },
  "language_info": {
   "codemirror_mode": {
    "name": "ipython",
    "version": 3
   },
   "file_extension": ".py",
   "mimetype": "text/x-python",
   "name": "python",
   "nbconvert_exporter": "python",
   "pygments_lexer": "ipython3",
   "version": "3.9.1"
  }
 },
 "nbformat": 4,
 "nbformat_minor": 5
}
